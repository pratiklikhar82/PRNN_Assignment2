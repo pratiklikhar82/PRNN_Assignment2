{
 "cells": [
  {
   "cell_type": "code",
   "execution_count": 9,
   "metadata": {},
   "outputs": [],
   "source": [
    "import pandas as pd  \n",
    "import numpy as np  \n",
    "import matplotlib.pyplot as plt  \n",
    "import seaborn as seabornInstance \n",
    "from sklearn.model_selection import train_test_split \n",
    "from sklearn.linear_model import LinearRegression\n",
    "from sklearn import metrics\n",
    "%matplotlib inline"
   ]
  },
  {
   "cell_type": "code",
   "execution_count": 4,
   "metadata": {},
   "outputs": [],
   "source": [
    "train = np.loadtxt(\"german.data-numeric\")"
   ]
  },
  {
   "cell_type": "code",
   "execution_count": 5,
   "metadata": {},
   "outputs": [
    {
     "name": "stdout",
     "output_type": "stream",
     "text": [
      "[[ 1.  6.  4. ...  0.  1.  1.]\n",
      " [ 2. 48.  2. ...  0.  1.  2.]\n",
      " [ 4. 12.  4. ...  1.  0.  1.]\n",
      " ...\n",
      " [ 4. 12.  2. ...  0.  1.  1.]\n",
      " [ 1. 45.  2. ...  0.  1.  2.]\n",
      " [ 2. 45.  4. ...  0.  1.  1.]]\n"
     ]
    }
   ],
   "source": [
    "print(train)"
   ]
  },
  {
   "cell_type": "code",
   "execution_count": 12,
   "metadata": {},
   "outputs": [],
   "source": [
    "X_train_init = train[:,:4]"
   ]
  },
  {
   "cell_type": "code",
   "execution_count": 13,
   "metadata": {},
   "outputs": [],
   "source": [
    "Y_train_init = train[:,-1]"
   ]
  },
  {
   "cell_type": "code",
   "execution_count": 14,
   "metadata": {},
   "outputs": [],
   "source": [
    "X_train, X_test, Y_train, Y_test = train_test_split(X_train_init, Y_train_init, test_size=0.2)"
   ]
  },
  {
   "cell_type": "markdown",
   "metadata": {},
   "source": [
    "## Using Linear Regression"
   ]
  },
  {
   "cell_type": "code",
   "execution_count": 15,
   "metadata": {},
   "outputs": [],
   "source": [
    "regressor = LinearRegression()"
   ]
  },
  {
   "cell_type": "code",
   "execution_count": 16,
   "metadata": {},
   "outputs": [
    {
     "data": {
      "text/plain": [
       "LinearRegression(copy_X=True, fit_intercept=True, n_jobs=None, normalize=False)"
      ]
     },
     "execution_count": 16,
     "metadata": {},
     "output_type": "execute_result"
    }
   ],
   "source": [
    "regressor.fit(X_train, Y_train)"
   ]
  },
  {
   "cell_type": "code",
   "execution_count": 17,
   "metadata": {},
   "outputs": [],
   "source": [
    "Y_pred = regressor.predict(X_test)"
   ]
  },
  {
   "cell_type": "code",
   "execution_count": 18,
   "metadata": {},
   "outputs": [
    {
     "name": "stdout",
     "output_type": "stream",
     "text": [
      "[1.52684533 1.2893811  1.29341929 0.96984002 1.35759147 1.37947218\n",
      " 1.10849927 1.3515363  1.32622159 1.4351975  1.47922971 1.52466101\n",
      " 1.08556845 1.19729642 1.49495679 1.5123913  1.85818173 1.52859278\n",
      " 1.01828511 1.36767687 1.1575043  1.47671494 1.05825351 1.57873212\n",
      " 1.18712548 1.38277638 0.96721884 1.18051161 1.48705321 1.64819987\n",
      " 0.96940315 1.18899601 1.44336041 1.08356822 1.18071119 1.76886468\n",
      " 1.46068849 1.15184845 1.2254618  1.03799709 1.52466101 1.1309633\n",
      " 1.57243204 1.29131147 1.04534727 1.72936297 1.17098491 1.54761511\n",
      " 1.51288907 1.10757233 1.36661915 1.37764044 1.52640846 1.4168117\n",
      " 1.20308206 1.44585851 1.15409368 1.31253487 1.41219019 0.92707415\n",
      " 1.32447414 1.47466813 1.17104707 1.0995325  1.35171258 1.10084309\n",
      " 1.4351975  1.05606919 1.49785943 1.57660101 1.1767263  1.51114162\n",
      " 1.46199263 1.27060269 1.26001155 1.58670978 1.44012608 1.57878533\n",
      " 1.38675241 1.50602233 1.30856306 1.59387589 1.09822191 1.30510819\n",
      " 1.61630883 1.6250461  1.43301318 0.94714649 1.52611805 1.45413804\n",
      " 1.3081262  1.3467308  1.18252735 1.08182076 1.19598583 1.43257632\n",
      " 1.23656738 1.35083886 1.31992151 1.34629393 1.54737791 1.05974039\n",
      " 1.15065199 1.10521173 1.327978   1.10521173 1.84726014 1.13681881\n",
      " 1.21200332 1.06978825 1.7290104  1.66702253 1.17046375 1.36991439\n",
      " 1.30221748 1.34631731 1.28326502 1.10369377 1.32054237 1.29436173\n",
      " 1.59955511 1.3081262  1.20089774 1.12266289 1.01391648 1.52640846\n",
      " 1.36706372 1.45227396 0.96721884 1.32360041 1.1903066  0.97333493\n",
      " 1.73216814 1.07858643 1.12303884 1.03692379 1.45009762 1.14579328\n",
      " 1.0572035  0.98819608 1.2881548  1.01347961 0.9301244  1.32228982\n",
      " 0.96852943 0.95107826 1.64639921 1.45271083 1.26618864 1.02090629\n",
      " 1.31151469 1.12222603 1.29915943 1.18176899 1.66601131 1.25982756\n",
      " 1.07902329 1.53637203 1.16300724 1.34367275 1.38675241 1.21287705\n",
      " 1.35176579 1.06742764 1.39013319 1.08907116 1.50059598 1.18943287\n",
      " 1.20778114 1.4786076  1.46183059 1.36680314 1.28632306 1.24637804\n",
      " 0.97857729 1.72630493 1.32732481 1.22117745 1.457624   1.32185296\n",
      " 1.08339193 1.30440179 1.15103564 1.28848292 1.46607731 1.29372529\n",
      " 1.28892758 1.40272565 1.32423694 1.1684868  1.22140695 1.10127996\n",
      " 1.73067356 1.15352595 1.41961687 1.27690277 1.13090238 1.16990381\n",
      " 1.32083528 1.60602377]\n"
     ]
    }
   ],
   "source": [
    "print(Y_pred)"
   ]
  },
  {
   "cell_type": "code",
   "execution_count": 19,
   "metadata": {},
   "outputs": [],
   "source": [
    "Y_predict_actual = []\n",
    "for i in range(len(Y_pred)):\n",
    "    if (abs(1-Y_pred[i])<abs(2-Y_pred[i])):\n",
    "        Y_predict_actual.append(1)\n",
    "    else:\n",
    "        Y_predict_actual.append(2)"
   ]
  },
  {
   "cell_type": "code",
   "execution_count": 20,
   "metadata": {},
   "outputs": [
    {
     "name": "stdout",
     "output_type": "stream",
     "text": [
      "final testing accuracy: 0.6800\n"
     ]
    }
   ],
   "source": [
    "final_acc_linear = (Y_predict_actual == Y_test).mean()\n",
    "print(\"final testing accuracy: {:.4f}\".format(final_acc_linear))"
   ]
  },
  {
   "cell_type": "markdown",
   "metadata": {},
   "source": [
    "## Using logistic regression"
   ]
  },
  {
   "cell_type": "code",
   "execution_count": 22,
   "metadata": {},
   "outputs": [],
   "source": [
    "from sklearn.linear_model import LogisticRegression"
   ]
  },
  {
   "cell_type": "code",
   "execution_count": 23,
   "metadata": {},
   "outputs": [],
   "source": [
    "log_regressor = LogisticRegression()"
   ]
  },
  {
   "cell_type": "code",
   "execution_count": 24,
   "metadata": {},
   "outputs": [
    {
     "name": "stderr",
     "output_type": "stream",
     "text": [
      "/opt/anaconda3/lib/python3.7/site-packages/sklearn/linear_model/logistic.py:432: FutureWarning: Default solver will be changed to 'lbfgs' in 0.22. Specify a solver to silence this warning.\n",
      "  FutureWarning)\n"
     ]
    },
    {
     "data": {
      "text/plain": [
       "LogisticRegression(C=1.0, class_weight=None, dual=False, fit_intercept=True,\n",
       "                   intercept_scaling=1, l1_ratio=None, max_iter=100,\n",
       "                   multi_class='warn', n_jobs=None, penalty='l2',\n",
       "                   random_state=None, solver='warn', tol=0.0001, verbose=0,\n",
       "                   warm_start=False)"
      ]
     },
     "execution_count": 24,
     "metadata": {},
     "output_type": "execute_result"
    }
   ],
   "source": [
    "log_regressor.fit(X_train, Y_train)"
   ]
  },
  {
   "cell_type": "code",
   "execution_count": 25,
   "metadata": {},
   "outputs": [],
   "source": [
    "Y_pred_log = log_regressor.predict(X_test)"
   ]
  },
  {
   "cell_type": "code",
   "execution_count": 26,
   "metadata": {},
   "outputs": [
    {
     "name": "stdout",
     "output_type": "stream",
     "text": [
      "[2. 1. 1. 1. 1. 1. 1. 1. 1. 1. 1. 2. 1. 1. 1. 2. 2. 2. 1. 1. 1. 1. 1. 2.\n",
      " 1. 1. 1. 1. 1. 2. 1. 1. 1. 1. 1. 2. 1. 1. 1. 1. 2. 1. 2. 1. 1. 2. 1. 2.\n",
      " 2. 1. 1. 1. 2. 1. 1. 1. 1. 1. 1. 1. 1. 1. 1. 1. 1. 1. 1. 1. 2. 2. 1. 2.\n",
      " 1. 1. 1. 2. 1. 2. 1. 2. 1. 2. 1. 1. 2. 2. 1. 1. 2. 1. 1. 1. 1. 1. 1. 1.\n",
      " 1. 1. 1. 1. 2. 1. 1. 1. 1. 1. 2. 1. 1. 1. 2. 2. 1. 1. 1. 1. 1. 1. 1. 1.\n",
      " 2. 1. 1. 1. 1. 2. 1. 1. 1. 1. 1. 1. 2. 1. 1. 1. 1. 1. 1. 1. 1. 1. 1. 1.\n",
      " 1. 1. 2. 1. 1. 1. 1. 1. 1. 1. 2. 1. 1. 2. 1. 1. 1. 1. 1. 1. 1. 1. 2. 1.\n",
      " 1. 1. 1. 1. 1. 1. 1. 2. 1. 1. 1. 1. 1. 1. 1. 1. 1. 1. 1. 1. 1. 1. 1. 1.\n",
      " 2. 1. 1. 1. 1. 1. 1. 2.]\n"
     ]
    }
   ],
   "source": [
    "print(Y_pred_log)"
   ]
  },
  {
   "cell_type": "code",
   "execution_count": 27,
   "metadata": {},
   "outputs": [
    {
     "name": "stdout",
     "output_type": "stream",
     "text": [
      "final testing accuracy: 0.6850\n"
     ]
    }
   ],
   "source": [
    "final_acc_log = (Y_pred_log == Y_test).mean()\n",
    "print(\"final testing accuracy: {:.4f}\".format(final_acc_log))"
   ]
  },
  {
   "cell_type": "code",
   "execution_count": null,
   "metadata": {},
   "outputs": [],
   "source": []
  }
 ],
 "metadata": {
  "kernelspec": {
   "display_name": "Python 3",
   "language": "python",
   "name": "python3"
  },
  "language_info": {
   "codemirror_mode": {
    "name": "ipython",
    "version": 3
   },
   "file_extension": ".py",
   "mimetype": "text/x-python",
   "name": "python",
   "nbconvert_exporter": "python",
   "pygments_lexer": "ipython3",
   "version": "3.7.4"
  }
 },
 "nbformat": 4,
 "nbformat_minor": 2
}
