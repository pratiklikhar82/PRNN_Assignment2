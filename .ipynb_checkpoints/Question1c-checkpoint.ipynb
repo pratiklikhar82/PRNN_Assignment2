{
 "cells": [
  {
   "cell_type": "code",
   "execution_count": 1,
   "metadata": {},
   "outputs": [],
   "source": [
    "import pandas as pd  \n",
    "import numpy as np  \n",
    "import matplotlib.pyplot as plt  \n",
    "import seaborn as seabornInstance \n",
    "from sklearn.model_selection import train_test_split \n",
    "from sklearn.linear_model import LinearRegression\n",
    "from sklearn import metrics\n",
    "%matplotlib inline"
   ]
  },
  {
   "cell_type": "code",
   "execution_count": 3,
   "metadata": {},
   "outputs": [],
   "source": [
    "train = np.loadtxt(\"Normal_train_10D.txt\",dtype='float',delimiter=',',skiprows=0)"
   ]
  },
  {
   "cell_type": "code",
   "execution_count": 4,
   "metadata": {},
   "outputs": [],
   "source": [
    "X_train = train[:,:10]"
   ]
  },
  {
   "cell_type": "code",
   "execution_count": 5,
   "metadata": {},
   "outputs": [],
   "source": [
    "Y_train = train[:,-1]"
   ]
  },
  {
   "cell_type": "markdown",
   "metadata": {},
   "source": [
    "# Using linear regression"
   ]
  },
  {
   "cell_type": "markdown",
   "metadata": {},
   "source": [
    "## for training set size 10"
   ]
  },
  {
   "cell_type": "code",
   "execution_count": 7,
   "metadata": {},
   "outputs": [
    {
     "name": "stdout",
     "output_type": "stream",
     "text": [
      "final testing accuracy for train sample size 10: 0.5740\n"
     ]
    }
   ],
   "source": [
    "index10 = np.random.randint(0,2000,10)\n",
    "X_train_10 = X_train[index10]\n",
    "Y_train_10 = Y_train[index10]\n",
    "regressor_10 = LinearRegression()\n",
    "regressor_10.fit(X_train_10, Y_train_10)\n",
    "test = np.loadtxt(\"Normal_test_10D.txt\",dtype='float',delimiter=',',skiprows=0)\n",
    "X_test = test[:,:10]\n",
    "Y_pred_10 = regressor_10.predict(X_test)\n",
    "Y_pred_10_actual = []\n",
    "for i in range(len(Y_pred_10)):\n",
    "    if Y_pred_10[i]>0:\n",
    "        Y_pred_10_actual.append(1)\n",
    "    else:\n",
    "        Y_pred_10_actual.append(-1)\n",
    "        \n",
    "Y_test = test[:,-1]\n",
    "final_acc_10 = (Y_pred_10_actual == Y_test).mean()\n",
    "print(\"final testing accuracy for train sample size 10: {:.4f}\".format(final_acc_10))"
   ]
  },
  {
   "cell_type": "markdown",
   "metadata": {},
   "source": [
    "## for training set size 50"
   ]
  },
  {
   "cell_type": "code",
   "execution_count": 8,
   "metadata": {},
   "outputs": [
    {
     "name": "stdout",
     "output_type": "stream",
     "text": [
      "final testing accuracy for train sample size 50: 0.9130\n"
     ]
    }
   ],
   "source": [
    "index50 = np.random.randint(0,2000,50)\n",
    "X_train_50 = X_train[index50]\n",
    "Y_train_50 = Y_train[index50]\n",
    "regressor_50 = LinearRegression()\n",
    "regressor_50.fit(X_train_50, Y_train_50)\n",
    "Y_pred_50 = regressor_50.predict(X_test)\n",
    "Y_pred_50_actual = []\n",
    "for i in range(len(Y_pred_50)):\n",
    "    if Y_pred_50[i]>0:\n",
    "        Y_pred_50_actual.append(1)\n",
    "    else:\n",
    "        Y_pred_50_actual.append(-1)\n",
    "        \n",
    "Y_test = test[:,-1]\n",
    "final_acc_50 = (Y_pred_50_actual == Y_test).mean()\n",
    "print(\"final testing accuracy for train sample size 50: {:.4f}\".format(final_acc_50))"
   ]
  },
  {
   "cell_type": "markdown",
   "metadata": {},
   "source": [
    "## for training set size 100"
   ]
  },
  {
   "cell_type": "code",
   "execution_count": 9,
   "metadata": {},
   "outputs": [
    {
     "name": "stdout",
     "output_type": "stream",
     "text": [
      "final testing accuracy for train sample size 100: 0.9350\n"
     ]
    }
   ],
   "source": [
    "index100 = np.random.randint(0,2000,100)\n",
    "X_train_100 = X_train[index100]\n",
    "Y_train_100 = Y_train[index100]\n",
    "regressor_100 = LinearRegression()\n",
    "regressor_100.fit(X_train_100, Y_train_100)\n",
    "Y_pred_100 = regressor_100.predict(X_test)\n",
    "Y_pred_100_actual = []\n",
    "for i in range(len(Y_pred_100)):\n",
    "    if Y_pred_100[i]>0:\n",
    "        Y_pred_100_actual.append(1)\n",
    "    else:\n",
    "        Y_pred_100_actual.append(-1)\n",
    "        \n",
    "final_acc_100 = (Y_pred_100_actual == Y_test).mean()\n",
    "print(\"final testing accuracy for train sample size 100: {:.4f}\".format(final_acc_100))"
   ]
  },
  {
   "cell_type": "markdown",
   "metadata": {},
   "source": [
    "## for training set size 500"
   ]
  },
  {
   "cell_type": "code",
   "execution_count": 10,
   "metadata": {},
   "outputs": [
    {
     "name": "stdout",
     "output_type": "stream",
     "text": [
      "final testing accuracy for train sample size 500: 0.9460\n"
     ]
    }
   ],
   "source": [
    "index500 = np.random.randint(0,2000,500)\n",
    "X_train_500 = X_train[index500]\n",
    "Y_train_500 = Y_train[index500]\n",
    "regressor_500 = LinearRegression()\n",
    "regressor_500.fit(X_train_500, Y_train_500)\n",
    "Y_pred_500 = regressor_500.predict(X_test)\n",
    "Y_pred_500_actual = []\n",
    "for i in range(len(Y_pred_500)):\n",
    "    if Y_pred_500[i]>0:\n",
    "        Y_pred_500_actual.append(1)\n",
    "    else:\n",
    "        Y_pred_500_actual.append(-1)\n",
    "        \n",
    "final_acc_500 = (Y_pred_500_actual == Y_test).mean()\n",
    "print(\"final testing accuracy for train sample size 500: {:.4f}\".format(final_acc_500))"
   ]
  },
  {
   "cell_type": "markdown",
   "metadata": {},
   "source": [
    "# Using logistic regression"
   ]
  },
  {
   "cell_type": "code",
   "execution_count": 11,
   "metadata": {},
   "outputs": [],
   "source": [
    "from sklearn.linear_model import LogisticRegression"
   ]
  },
  {
   "cell_type": "markdown",
   "metadata": {},
   "source": [
    "## for training set size 10"
   ]
  },
  {
   "cell_type": "code",
   "execution_count": 12,
   "metadata": {},
   "outputs": [
    {
     "name": "stdout",
     "output_type": "stream",
     "text": [
      "final testing accuracy for train sample size 50: 0.7860\n"
     ]
    },
    {
     "name": "stderr",
     "output_type": "stream",
     "text": [
      "/opt/anaconda3/lib/python3.7/site-packages/sklearn/linear_model/logistic.py:432: FutureWarning: Default solver will be changed to 'lbfgs' in 0.22. Specify a solver to silence this warning.\n",
      "  FutureWarning)\n"
     ]
    }
   ],
   "source": [
    "logisticRegr_10 = LogisticRegression()\n",
    "logisticRegr_10.fit(X_train_10, Y_train_10)\n",
    "Y_pred_lr_10 = logisticRegr_10.predict(X_test)\n",
    "final_acc_lr_10 = (Y_pred_lr_10 == Y_test).mean()\n",
    "print(\"final testing accuracy for train sample size 50: {:.4f}\".format(final_acc_lr_10))"
   ]
  },
  {
   "cell_type": "markdown",
   "metadata": {},
   "source": [
    "## for training set size 50"
   ]
  },
  {
   "cell_type": "code",
   "execution_count": 13,
   "metadata": {},
   "outputs": [
    {
     "name": "stdout",
     "output_type": "stream",
     "text": [
      "final testing accuracy for train sample size 50: 0.8710\n"
     ]
    },
    {
     "name": "stderr",
     "output_type": "stream",
     "text": [
      "/opt/anaconda3/lib/python3.7/site-packages/sklearn/linear_model/logistic.py:432: FutureWarning: Default solver will be changed to 'lbfgs' in 0.22. Specify a solver to silence this warning.\n",
      "  FutureWarning)\n"
     ]
    }
   ],
   "source": [
    "logisticRegr_50 = LogisticRegression()\n",
    "logisticRegr_50.fit(X_train_50, Y_train_50)\n",
    "Y_pred_lr_50 = logisticRegr_50.predict(X_test)\n",
    "final_acc_lr_50 = (Y_pred_lr_50 == Y_test).mean()\n",
    "print(\"final testing accuracy for train sample size 50: {:.4f}\".format(final_acc_lr_50))"
   ]
  },
  {
   "cell_type": "markdown",
   "metadata": {},
   "source": [
    "## for training set size 100"
   ]
  },
  {
   "cell_type": "code",
   "execution_count": 14,
   "metadata": {},
   "outputs": [
    {
     "name": "stdout",
     "output_type": "stream",
     "text": [
      "final testing accuracy for train sample size 100: 0.9270\n"
     ]
    },
    {
     "name": "stderr",
     "output_type": "stream",
     "text": [
      "/opt/anaconda3/lib/python3.7/site-packages/sklearn/linear_model/logistic.py:432: FutureWarning: Default solver will be changed to 'lbfgs' in 0.22. Specify a solver to silence this warning.\n",
      "  FutureWarning)\n"
     ]
    }
   ],
   "source": [
    "logisticRegr_100 = LogisticRegression()\n",
    "logisticRegr_100.fit(X_train_100, Y_train_100)\n",
    "Y_pred_lr_100 = logisticRegr_100.predict(X_test)\n",
    "final_acc_lr_100 = (Y_pred_lr_100 == Y_test).mean()\n",
    "print(\"final testing accuracy for train sample size 100: {:.4f}\".format(final_acc_lr_100))"
   ]
  },
  {
   "cell_type": "markdown",
   "metadata": {},
   "source": [
    "## for training set size 500"
   ]
  },
  {
   "cell_type": "code",
   "execution_count": 15,
   "metadata": {},
   "outputs": [
    {
     "name": "stdout",
     "output_type": "stream",
     "text": [
      "final testing accuracy for train sample size 500: 0.9410\n"
     ]
    },
    {
     "name": "stderr",
     "output_type": "stream",
     "text": [
      "/opt/anaconda3/lib/python3.7/site-packages/sklearn/linear_model/logistic.py:432: FutureWarning: Default solver will be changed to 'lbfgs' in 0.22. Specify a solver to silence this warning.\n",
      "  FutureWarning)\n"
     ]
    }
   ],
   "source": [
    "logisticRegr_500 = LogisticRegression()\n",
    "logisticRegr_500.fit(X_train_500, Y_train_500)\n",
    "Y_pred_lr_500 = logisticRegr_500.predict(X_test)\n",
    "final_acc_lr_500 = (Y_pred_lr_500 == Y_test).mean()\n",
    "print(\"final testing accuracy for train sample size 500: {:.4f}\".format(final_acc_lr_500))"
   ]
  },
  {
   "cell_type": "code",
   "execution_count": null,
   "metadata": {},
   "outputs": [],
   "source": []
  }
 ],
 "metadata": {
  "kernelspec": {
   "display_name": "Python 3",
   "language": "python",
   "name": "python3"
  },
  "language_info": {
   "codemirror_mode": {
    "name": "ipython",
    "version": 3
   },
   "file_extension": ".py",
   "mimetype": "text/x-python",
   "name": "python",
   "nbconvert_exporter": "python",
   "pygments_lexer": "ipython3",
   "version": "3.7.4"
  }
 },
 "nbformat": 4,
 "nbformat_minor": 2
}
