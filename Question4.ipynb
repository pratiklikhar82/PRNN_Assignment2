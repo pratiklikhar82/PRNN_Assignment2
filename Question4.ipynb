{
 "cells": [
  {
   "cell_type": "code",
   "execution_count": 39,
   "metadata": {},
   "outputs": [],
   "source": [
    "import pandas as pd  \n",
    "import numpy as np  \n",
    "import matplotlib.pyplot as plt  \n",
    "import seaborn as seabornInstance \n",
    "import operator\n",
    "from sklearn.model_selection import train_test_split \n",
    "from sklearn.linear_model import LinearRegression\n",
    "from sklearn import metrics\n",
    "from sklearn.metrics import mean_squared_error\n",
    "from sklearn.preprocessing import PolynomialFeatures\n",
    "%matplotlib inline"
   ]
  },
  {
   "cell_type": "code",
   "execution_count": 2,
   "metadata": {},
   "outputs": [],
   "source": [
    "data = np.loadtxt(\"1D_regression_data.txt\")"
   ]
  },
  {
   "cell_type": "code",
   "execution_count": 3,
   "metadata": {
    "scrolled": true
   },
   "outputs": [
    {
     "name": "stdout",
     "output_type": "stream",
     "text": [
      "[[-5.994610e+00  8.917830e+00]\n",
      " [-5.819280e+00  9.026990e+00]\n",
      " [-5.710140e+00  8.961460e+00]\n",
      " [-5.673000e+00  7.187130e+00]\n",
      " [-5.607180e+00  1.197925e+01]\n",
      " [-5.489800e+00  1.182465e+01]\n",
      " [-5.381950e+00  1.123991e+01]\n",
      " [-5.272880e+00  1.133089e+01]\n",
      " [-5.200310e+00  1.109984e+01]\n",
      " [-5.122880e+00  1.052466e+01]\n",
      " [-4.953170e+00  9.816550e+00]\n",
      " [-4.782290e+00  1.175478e+01]\n",
      " [-4.767460e+00  1.138563e+01]\n",
      " [-4.645430e+00  1.178389e+01]\n",
      " [-4.536870e+00  1.277095e+01]\n",
      " [-4.409360e+00  1.470973e+01]\n",
      " [-4.296880e+00  1.405948e+01]\n",
      " [-4.089070e+00  1.183519e+01]\n",
      " [-3.954400e+00  1.245684e+01]\n",
      " [-3.924410e+00  1.138709e+01]\n",
      " [-3.780640e+00  1.317919e+01]\n",
      " [-3.486710e+00  1.301532e+01]\n",
      " [-3.477500e+00  8.682320e+00]\n",
      " [-3.459570e+00  1.184142e+01]\n",
      " [-3.431740e+00  1.350547e+01]\n",
      " [-3.361140e+00  1.307234e+01]\n",
      " [-3.100380e+00  8.210430e+00]\n",
      " [-3.051720e+00  8.755610e+00]\n",
      " [-2.914820e+00  1.192820e+01]\n",
      " [-2.844740e+00  9.095440e+00]\n",
      " [-2.786500e+00  9.358840e+00]\n",
      " [-2.371320e+00  1.085195e+01]\n",
      " [-2.217880e+00  9.312190e+00]\n",
      " [-2.212470e+00  7.826310e+00]\n",
      " [-2.143420e+00  8.831710e+00]\n",
      " [-1.970390e+00  7.622170e+00]\n",
      " [-1.760550e+00  3.522980e+00]\n",
      " [-1.746940e+00  7.713340e+00]\n",
      " [-1.734910e+00  5.846950e+00]\n",
      " [-1.148350e+00  2.451840e+00]\n",
      " [-1.107930e+00  2.813100e+00]\n",
      " [-9.653000e-01 -2.339460e+00]\n",
      " [-8.773700e-01  1.719390e+00]\n",
      " [-7.960600e-01 -1.525990e+00]\n",
      " [-7.775500e-01  2.082530e+00]\n",
      " [-6.743600e-01 -5.927700e-01]\n",
      " [-6.484700e-01 -9.551000e-02]\n",
      " [-6.068700e-01  3.270000e-03]\n",
      " [-5.879900e-01  3.741000e-01]\n",
      " [-4.500200e-01  2.278700e-01]\n",
      " [-4.033600e-01 -2.389300e-01]\n",
      " [-2.747600e-01 -2.615250e+00]\n",
      " [ 1.272300e-01 -4.123860e+00]\n",
      " [ 1.302300e-01 -5.129940e+00]\n",
      " [ 1.367700e-01 -2.202220e+00]\n",
      " [ 1.952200e-01 -2.393860e+00]\n",
      " [ 2.304200e-01 -1.845270e+00]\n",
      " [ 3.575000e-01 -4.408560e+00]\n",
      " [ 4.279100e-01 -2.290100e+00]\n",
      " [ 4.351200e-01 -7.917400e-01]\n",
      " [ 9.012900e-01 -2.030540e+00]\n",
      " [ 9.514300e-01 -6.290460e+00]\n",
      " [ 1.053450e+00 -2.591060e+00]\n",
      " [ 1.099510e+00 -6.915390e+00]\n",
      " [ 1.126070e+00 -8.431400e-01]\n",
      " [ 1.238130e+00 -1.211460e+00]\n",
      " [ 1.363920e+00 -2.688490e+00]\n",
      " [ 1.445750e+00  1.253870e+00]\n",
      " [ 1.758830e+00 -5.352310e+00]\n",
      " [ 1.988680e+00 -1.478640e+00]\n",
      " [ 2.025280e+00 -1.070930e+00]\n",
      " [ 2.093710e+00 -1.164460e+00]\n",
      " [ 2.122220e+00 -5.751800e-01]\n",
      " [ 2.147750e+00 -1.957830e+00]\n",
      " [ 2.453850e+00  1.800790e+00]\n",
      " [ 2.703610e+00  7.195100e-01]\n",
      " [ 2.911180e+00  4.763110e+00]\n",
      " [ 2.929880e+00  4.493360e+00]\n",
      " [ 3.033380e+00  7.800070e+00]\n",
      " [ 3.053750e+00  8.799000e+00]\n",
      " [ 3.347770e+00  4.505750e+00]\n",
      " [ 3.370360e+00  1.174065e+01]\n",
      " [ 3.487960e+00  1.499720e+01]\n",
      " [ 3.892410e+00  2.102609e+01]\n",
      " [ 3.897940e+00  2.162009e+01]\n",
      " [ 3.919360e+00  2.207892e+01]\n",
      " [ 4.269490e+00  2.682140e+01]\n",
      " [ 4.620500e+00  3.538891e+01]\n",
      " [ 4.657170e+00  3.543074e+01]\n",
      " [ 4.662860e+00  3.849782e+01]\n",
      " [ 4.701410e+00  3.550708e+01]\n",
      " [ 4.831030e+00  4.090999e+01]\n",
      " [ 4.863900e+00  3.905750e+01]\n",
      " [ 5.092570e+00  4.168522e+01]\n",
      " [ 5.099340e+00  4.761321e+01]\n",
      " [ 5.452960e+00  5.658869e+01]\n",
      " [ 5.455290e+00  5.935502e+01]\n",
      " [ 5.610910e+00  6.575505e+01]\n",
      " [ 5.742230e+00  6.745378e+01]\n",
      " [ 5.754770e+00  7.047843e+01]]\n"
     ]
    }
   ],
   "source": [
    "print(data)"
   ]
  },
  {
   "cell_type": "code",
   "execution_count": 4,
   "metadata": {},
   "outputs": [
    {
     "name": "stdout",
     "output_type": "stream",
     "text": [
      "(100, 2)\n"
     ]
    }
   ],
   "source": [
    "print(data.shape)"
   ]
  },
  {
   "cell_type": "code",
   "execution_count": 15,
   "metadata": {},
   "outputs": [],
   "source": [
    "X = data[:,0]"
   ]
  },
  {
   "cell_type": "code",
   "execution_count": 16,
   "metadata": {
    "scrolled": true
   },
   "outputs": [
    {
     "name": "stdout",
     "output_type": "stream",
     "text": [
      "[-5.99461 -5.81928 -5.71014 -5.673   -5.60718 -5.4898  -5.38195 -5.27288\n",
      " -5.20031 -5.12288 -4.95317 -4.78229 -4.76746 -4.64543 -4.53687 -4.40936\n",
      " -4.29688 -4.08907 -3.9544  -3.92441 -3.78064 -3.48671 -3.4775  -3.45957\n",
      " -3.43174 -3.36114 -3.10038 -3.05172 -2.91482 -2.84474 -2.7865  -2.37132\n",
      " -2.21788 -2.21247 -2.14342 -1.97039 -1.76055 -1.74694 -1.73491 -1.14835\n",
      " -1.10793 -0.9653  -0.87737 -0.79606 -0.77755 -0.67436 -0.64847 -0.60687\n",
      " -0.58799 -0.45002 -0.40336 -0.27476  0.12723  0.13023  0.13677  0.19522\n",
      "  0.23042  0.3575   0.42791  0.43512  0.90129  0.95143  1.05345  1.09951\n",
      "  1.12607  1.23813  1.36392  1.44575  1.75883  1.98868  2.02528  2.09371\n",
      "  2.12222  2.14775  2.45385  2.70361  2.91118  2.92988  3.03338  3.05375\n",
      "  3.34777  3.37036  3.48796  3.89241  3.89794  3.91936  4.26949  4.6205\n",
      "  4.65717  4.66286  4.70141  4.83103  4.8639   5.09257  5.09934  5.45296\n",
      "  5.45529  5.61091  5.74223  5.75477]\n"
     ]
    }
   ],
   "source": [
    "print(X)"
   ]
  },
  {
   "cell_type": "code",
   "execution_count": 13,
   "metadata": {},
   "outputs": [],
   "source": [
    "Y = data[:,-1]"
   ]
  },
  {
   "cell_type": "code",
   "execution_count": 14,
   "metadata": {
    "scrolled": false
   },
   "outputs": [
    {
     "name": "stdout",
     "output_type": "stream",
     "text": [
      "[ 8.917830e+00  9.026990e+00  8.961460e+00  7.187130e+00  1.197925e+01\n",
      "  1.182465e+01  1.123991e+01  1.133089e+01  1.109984e+01  1.052466e+01\n",
      "  9.816550e+00  1.175478e+01  1.138563e+01  1.178389e+01  1.277095e+01\n",
      "  1.470973e+01  1.405948e+01  1.183519e+01  1.245684e+01  1.138709e+01\n",
      "  1.317919e+01  1.301532e+01  8.682320e+00  1.184142e+01  1.350547e+01\n",
      "  1.307234e+01  8.210430e+00  8.755610e+00  1.192820e+01  9.095440e+00\n",
      "  9.358840e+00  1.085195e+01  9.312190e+00  7.826310e+00  8.831710e+00\n",
      "  7.622170e+00  3.522980e+00  7.713340e+00  5.846950e+00  2.451840e+00\n",
      "  2.813100e+00 -2.339460e+00  1.719390e+00 -1.525990e+00  2.082530e+00\n",
      " -5.927700e-01 -9.551000e-02  3.270000e-03  3.741000e-01  2.278700e-01\n",
      " -2.389300e-01 -2.615250e+00 -4.123860e+00 -5.129940e+00 -2.202220e+00\n",
      " -2.393860e+00 -1.845270e+00 -4.408560e+00 -2.290100e+00 -7.917400e-01\n",
      " -2.030540e+00 -6.290460e+00 -2.591060e+00 -6.915390e+00 -8.431400e-01\n",
      " -1.211460e+00 -2.688490e+00  1.253870e+00 -5.352310e+00 -1.478640e+00\n",
      " -1.070930e+00 -1.164460e+00 -5.751800e-01 -1.957830e+00  1.800790e+00\n",
      "  7.195100e-01  4.763110e+00  4.493360e+00  7.800070e+00  8.799000e+00\n",
      "  4.505750e+00  1.174065e+01  1.499720e+01  2.102609e+01  2.162009e+01\n",
      "  2.207892e+01  2.682140e+01  3.538891e+01  3.543074e+01  3.849782e+01\n",
      "  3.550708e+01  4.090999e+01  3.905750e+01  4.168522e+01  4.761321e+01\n",
      "  5.658869e+01  5.935502e+01  6.575505e+01  6.745378e+01  7.047843e+01]\n"
     ]
    }
   ],
   "source": [
    "print(Y)"
   ]
  },
  {
   "cell_type": "code",
   "execution_count": 9,
   "metadata": {},
   "outputs": [
    {
     "name": "stdout",
     "output_type": "stream",
     "text": [
      "(100,)\n"
     ]
    }
   ],
   "source": [
    "print(Y.shape)"
   ]
  },
  {
   "cell_type": "code",
   "execution_count": 17,
   "metadata": {},
   "outputs": [
    {
     "name": "stdout",
     "output_type": "stream",
     "text": [
      "(100,)\n"
     ]
    }
   ],
   "source": [
    "print(X.shape)"
   ]
  },
  {
   "cell_type": "code",
   "execution_count": 18,
   "metadata": {},
   "outputs": [],
   "source": [
    "X = X[:, np.newaxis]"
   ]
  },
  {
   "cell_type": "code",
   "execution_count": 19,
   "metadata": {},
   "outputs": [],
   "source": [
    "Y = Y[:, np.newaxis]"
   ]
  },
  {
   "cell_type": "markdown",
   "metadata": {},
   "source": [
    "## Curve fitting using 1 degree polynomial"
   ]
  },
  {
   "cell_type": "code",
   "execution_count": 22,
   "metadata": {},
   "outputs": [],
   "source": [
    "model = LinearRegression()\n",
    "model.fit(X, Y)\n",
    "Y_pred_1 = model.predict(X)"
   ]
  },
  {
   "cell_type": "code",
   "execution_count": 42,
   "metadata": {},
   "outputs": [
    {
     "data": {
      "image/png": "[encoded data removed]",
      "text/plain": [
       "<Figure size 432x288 with 1 Axes>"
      ]
     },
     "metadata": {
      "needs_background": "light"
     },
     "output_type": "display_data"
    }
   ],
   "source": [
    "plt.scatter(X, Y, s=10)\n",
    "plt.plot(X, Y_pred_1, color='m')\n",
    "plt.show()"
   ]
  },
  {
   "cell_type": "code",
   "execution_count": 28,
   "metadata": {},
   "outputs": [],
   "source": [
    "rmse1 = np.sqrt(mean_squared_error(Y,Y_pred_1))"
   ]
  },
  {
   "cell_type": "code",
   "execution_count": 30,
   "metadata": {},
   "outputs": [
    {
     "name": "stdout",
     "output_type": "stream",
     "text": [
      "Root mean squared error is: 14.8888\n"
     ]
    }
   ],
   "source": [
    "print(\"Root mean squared error is: {:.4f}\".format(rmse1))"
   ]
  },
  {
   "cell_type": "markdown",
   "metadata": {},
   "source": [
    "## Curve fitting using 2 degree polynomial"
   ]
  },
  {
   "cell_type": "code",
   "execution_count": 32,
   "metadata": {},
   "outputs": [],
   "source": [
    "polynomial_features= PolynomialFeatures(degree=2)"
   ]
  },
  {
   "cell_type": "code",
   "execution_count": 33,
   "metadata": {},
   "outputs": [],
   "source": [
    "x_poly_2 = polynomial_features.fit_transform(X)"
   ]
  },
  {
   "cell_type": "code",
   "execution_count": 34,
   "metadata": {},
   "outputs": [],
   "source": [
    "model_2 = LinearRegression()"
   ]
  },
  {
   "cell_type": "code",
   "execution_count": 36,
   "metadata": {},
   "outputs": [
    {
     "data": {
      "text/plain": [
       "LinearRegression(copy_X=True, fit_intercept=True, n_jobs=None, normalize=False)"
      ]
     },
     "execution_count": 36,
     "metadata": {},
     "output_type": "execute_result"
    }
   ],
   "source": [
    "model_2.fit(x_poly_2, Y)"
   ]
  },
  {
   "cell_type": "code",
   "execution_count": 37,
   "metadata": {},
   "outputs": [],
   "source": [
    "y_poly_pred_2 = model_2.predict(x_poly_2)"
   ]
  },
  {
   "cell_type": "code",
   "execution_count": 40,
   "metadata": {},
   "outputs": [
    {
     "data": {
      "image/png": "[encoded data removed]",
      "text/plain": [
       "<Figure size 432x288 with 1 Axes>"
      ]
     },
     "metadata": {
      "needs_background": "light"
     },
     "output_type": "display_data"
    }
   ],
   "source": [
    "plt.scatter(X, Y, s=10)\n",
    "# sort the values of x before line plot\n",
    "sort_axis = operator.itemgetter(0)\n",
    "sorted_zip = sorted(zip(X,y_poly_pred_2), key=sort_axis)\n",
    "X, y_poly_pred_2 = zip(*sorted_zip)\n",
    "plt.plot(X, y_poly_pred_2, color='m')\n",
    "plt.show()"
   ]
  },
  {
   "cell_type": "code",
   "execution_count": 41,
   "metadata": {},
   "outputs": [
    {
     "name": "stdout",
     "output_type": "stream",
     "text": [
      "Root mean squared error is: 7.8956\n"
     ]
    }
   ],
   "source": [
    "rmse2 = np.sqrt(mean_squared_error(Y,y_poly_pred_2))\n",
    "print(\"Root mean squared error is: {:.4f}\".format(rmse2))"
   ]
  },
  {
   "cell_type": "markdown",
   "metadata": {},
   "source": [
    "## Curve fitting using 3 degree polynomial"
   ]
  },
  {
   "cell_type": "code",
   "execution_count": 43,
   "metadata": {},
   "outputs": [
    {
     "data": {
      "image/png": "[encoded data removed]",
      "text/plain": [
       "<Figure size 432x288 with 1 Axes>"
      ]
     },
     "metadata": {
      "needs_background": "light"
     },
     "output_type": "display_data"
    }
   ],
   "source": [
    "polynomial_features= PolynomialFeatures(degree=3)\n",
    "x_poly_3 = polynomial_features.fit_transform(X)\n",
    "model_3 = LinearRegression()\n",
    "model_3.fit(x_poly_3, Y)\n",
    "y_poly_pred_3 = model_3.predict(x_poly_3)\n",
    "plt.scatter(X, Y, s=10)\n",
    "# sort the values of x before line plot\n",
    "sort_axis = operator.itemgetter(0)\n",
    "sorted_zip = sorted(zip(X,y_poly_pred_3), key=sort_axis)\n",
    "X, y_poly_pred_3 = zip(*sorted_zip)\n",
    "plt.plot(X, y_poly_pred_3, color='m')\n",
    "plt.show()"
   ]
  },
  {
   "cell_type": "code",
   "execution_count": 44,
   "metadata": {},
   "outputs": [
    {
     "name": "stdout",
     "output_type": "stream",
     "text": [
      "Root mean squared error is: 1.8508\n"
     ]
    }
   ],
   "source": [
    "rmse3 = np.sqrt(mean_squared_error(Y,y_poly_pred_3))\n",
    "print(\"Root mean squared error is: {:.4f}\".format(rmse3))"
   ]
  },
  {
   "cell_type": "markdown",
   "metadata": {},
   "source": [
    "## Curve fitting using 4 degree polynomial"
   ]
  },
  {
   "cell_type": "code",
   "execution_count": 45,
   "metadata": {},
   "outputs": [
    {
     "data": {
      "image/png": "[encoded data removed]",
      "text/plain": [
       "<Figure size 432x288 with 1 Axes>"
      ]
     },
     "metadata": {
      "needs_background": "light"
     },
     "output_type": "display_data"
    }
   ],
   "source": [
    "polynomial_features= PolynomialFeatures(degree=4)\n",
    "x_poly_4 = polynomial_features.fit_transform(X)\n",
    "model_4 = LinearRegression()\n",
    "model_4.fit(x_poly_4, Y)\n",
    "y_poly_pred_4 = model_4.predict(x_poly_4)\n",
    "plt.scatter(X, Y, s=10)\n",
    "# sort the values of x before line plot\n",
    "sort_axis = operator.itemgetter(0)\n",
    "sorted_zip = sorted(zip(X,y_poly_pred_4), key=sort_axis)\n",
    "X, y_poly_pred_4 = zip(*sorted_zip)\n",
    "plt.plot(X, y_poly_pred_4, color='m')\n",
    "plt.show()"
   ]
  },
  {
   "cell_type": "code",
   "execution_count": 46,
   "metadata": {},
   "outputs": [
    {
     "name": "stdout",
     "output_type": "stream",
     "text": [
      "Root mean squared error is: 1.8241\n"
     ]
    }
   ],
   "source": [
    "rmse4 = np.sqrt(mean_squared_error(Y,y_poly_pred_4))\n",
    "print(\"Root mean squared error is: {:.4f}\".format(rmse4))"
   ]
  },
  {
   "cell_type": "markdown",
   "metadata": {},
   "source": [
    "## Curve fitting using 5 degree polynomial"
   ]
  },
  {
   "cell_type": "code",
   "execution_count": 47,
   "metadata": {},
   "outputs": [
    {
     "data": {
      "image/png": "[encoded data removed]",
      "text/plain": [
       "<Figure size 432x288 with 1 Axes>"
      ]
     },
     "metadata": {
      "needs_background": "light"
     },
     "output_type": "display_data"
    }
   ],
   "source": [
    "polynomial_features= PolynomialFeatures(degree=5)\n",
    "x_poly_5 = polynomial_features.fit_transform(X)\n",
    "model_5 = LinearRegression()\n",
    "model_5.fit(x_poly_5, Y)\n",
    "y_poly_pred_5 = model_5.predict(x_poly_5)\n",
    "plt.scatter(X, Y, s=10)\n",
    "# sort the values of x before line plot\n",
    "sort_axis = operator.itemgetter(0)\n",
    "sorted_zip = sorted(zip(X,y_poly_pred_5), key=sort_axis)\n",
    "X, y_poly_pred_5 = zip(*sorted_zip)\n",
    "plt.plot(X, y_poly_pred_5, color='m')\n",
    "plt.show()"
   ]
  },
  {
   "cell_type": "code",
   "execution_count": 48,
   "metadata": {},
   "outputs": [
    {
     "name": "stdout",
     "output_type": "stream",
     "text": [
      "Root mean squared error is: 1.8107\n"
     ]
    }
   ],
   "source": [
    "rmse5 = np.sqrt(mean_squared_error(Y,y_poly_pred_5))\n",
    "print(\"Root mean squared error is: {:.4f}\".format(rmse5))"
   ]
  },
  {
   "cell_type": "markdown",
   "metadata": {},
   "source": [
    "## Curve fitting using 6 degree polynomial"
   ]
  },
  {
   "cell_type": "code",
   "execution_count": 49,
   "metadata": {},
   "outputs": [
    {
     "data": {
      "image/png": "[encoded data removed]",
      "text/plain": [
       "<Figure size 432x288 with 1 Axes>"
      ]
     },
     "metadata": {
      "needs_background": "light"
     },
     "output_type": "display_data"
    }
   ],
   "source": [
    "polynomial_features= PolynomialFeatures(degree=6)\n",
    "x_poly_6 = polynomial_features.fit_transform(X)\n",
    "model_6 = LinearRegression()\n",
    "model_6.fit(x_poly_6, Y)\n",
    "y_poly_pred_6 = model_6.predict(x_poly_6)\n",
    "plt.scatter(X, Y, s=10)\n",
    "# sort the values of x before line plot\n",
    "sort_axis = operator.itemgetter(0)\n",
    "sorted_zip = sorted(zip(X,y_poly_pred_6), key=sort_axis)\n",
    "X, y_poly_pred_6 = zip(*sorted_zip)\n",
    "plt.plot(X, y_poly_pred_6, color='m')\n",
    "plt.show()"
   ]
  },
  {
   "cell_type": "code",
   "execution_count": 50,
   "metadata": {},
   "outputs": [
    {
     "name": "stdout",
     "output_type": "stream",
     "text": [
      "Root mean squared error is: 1.7998\n"
     ]
    }
   ],
   "source": [
    "rmse6 = np.sqrt(mean_squared_error(Y,y_poly_pred_6))\n",
    "print(\"Root mean squared error is: {:.4f}\".format(rmse6))"
   ]
  },
  {
   "cell_type": "markdown",
   "metadata": {},
   "source": [
    "## Curve fitting using 7 degree polynomial"
   ]
  },
  {
   "cell_type": "code",
   "execution_count": 51,
   "metadata": {},
   "outputs": [
    {
     "data": {
      "image/png": "[encoded data removed]",
      "text/plain": [
       "<Figure size 432x288 with 1 Axes>"
      ]
     },
     "metadata": {
      "needs_background": "light"
     },
     "output_type": "display_data"
    }
   ],
   "source": [
    "polynomial_features= PolynomialFeatures(degree=7)\n",
    "x_poly_7 = polynomial_features.fit_transform(X)\n",
    "model_7 = LinearRegression()\n",
    "model_7.fit(x_poly_7, Y)\n",
    "y_poly_pred_7 = model_7.predict(x_poly_7)\n",
    "plt.scatter(X, Y, s=10)\n",
    "# sort the values of x before line plot\n",
    "sort_axis = operator.itemgetter(0)\n",
    "sorted_zip = sorted(zip(X,y_poly_pred_7), key=sort_axis)\n",
    "X, y_poly_pred_7 = zip(*sorted_zip)\n",
    "plt.plot(X, y_poly_pred_7, color='m')\n",
    "plt.show()"
   ]
  },
  {
   "cell_type": "code",
   "execution_count": 52,
   "metadata": {},
   "outputs": [
    {
     "name": "stdout",
     "output_type": "stream",
     "text": [
      "Root mean squared error is: 1.7993\n"
     ]
    }
   ],
   "source": [
    "rmse7 = np.sqrt(mean_squared_error(Y,y_poly_pred_7))\n",
    "print(\"Root mean squared error is: {:.4f}\".format(rmse7))"
   ]
  },
  {
   "cell_type": "markdown",
   "metadata": {},
   "source": [
    "## Curve fitting using 20 degree polynomial"
   ]
  },
  {
   "cell_type": "code",
   "execution_count": 53,
   "metadata": {},
   "outputs": [
    {
     "data": {
      "image/png": "[encoded data removed]",
      "text/plain": [
       "<Figure size 432x288 with 1 Axes>"
      ]
     },
     "metadata": {
      "needs_background": "light"
     },
     "output_type": "display_data"
    }
   ],
   "source": [
    "polynomial_features= PolynomialFeatures(degree=20)\n",
    "x_poly_20 = polynomial_features.fit_transform(X)\n",
    "model_20 = LinearRegression()\n",
    "model_20.fit(x_poly_20, Y)\n",
    "y_poly_pred_20 = model_20.predict(x_poly_20)\n",
    "plt.scatter(X, Y, s=10)\n",
    "# sort the values of x before line plot\n",
    "sort_axis = operator.itemgetter(0)\n",
    "sorted_zip = sorted(zip(X,y_poly_pred_20), key=sort_axis)\n",
    "X, y_poly_pred_20 = zip(*sorted_zip)\n",
    "plt.plot(X, y_poly_pred_20, color='m')\n",
    "plt.show()"
   ]
  },
  {
   "cell_type": "code",
   "execution_count": 54,
   "metadata": {},
   "outputs": [
    {
     "name": "stdout",
     "output_type": "stream",
     "text": [
      "Root mean squared error is: 1.6517\n"
     ]
    }
   ],
   "source": [
    "rmse20 = np.sqrt(mean_squared_error(Y,y_poly_pred_20))\n",
    "print(\"Root mean squared error is: {:.4f}\".format(rmse20))"
   ]
  }
 ],
 "metadata": {
  "kernelspec": {
   "display_name": "Python 3",
   "language": "python",
   "name": "python3"
  },
  "language_info": {
   "codemirror_mode": {
    "name": "ipython",
    "version": 3
   },
   "file_extension": ".py",
   "mimetype": "text/x-python",
   "name": "python",
   "nbconvert_exporter": "python",
   "pygments_lexer": "ipython3",
   "version": "3.7.4"
  }
 },
 "nbformat": 4,
 "nbformat_minor": 2
}
